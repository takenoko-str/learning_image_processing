{
 "cells": [
  {
   "cell_type": "code",
   "execution_count": 136,
   "metadata": {
    "collapsed": true
   },
   "outputs": [],
   "source": [
    "import cv2\n",
    "import numpy as np\n",
    "import matplotlib.pyplot as plt\n",
    "import matplotlib.patches as mpatches\n",
    "from skimage.data import coins\n",
    "from skimage.filters import threshold_otsu\n",
    "from skimage.segmentation import clear_border\n",
    "from skimage.morphology import closing, square\n",
    "from skimage.measure import regionprops, label\n",
    "from skimage.color import lab2rgb\n",
    "%matplotlib inline"
   ]
  },
  {
   "cell_type": "code",
   "execution_count": 137,
   "metadata": {
    "collapsed": true
   },
   "outputs": [],
   "source": [
    "def frame_border(box):\n",
    "    minr, minc, maxr, maxc = box\n",
    "    return mpatches.Rectangle(xy=(minc, minr), \n",
    "                             width=maxc-minc,\n",
    "                             height=maxr-minr,\n",
    "                             fill=False,\n",
    "                             edgecolor='red',\n",
    "                             linewidth=2)"
   ]
  },
  {
   "cell_type": "code",
   "execution_count": 138,
   "metadata": {
    "collapsed": true
   },
   "outputs": [],
   "source": [
    "def calc_from_axis(tableBw):\n",
    "    tableBwImage = tableBw.copy()\n",
    "    tableBwHeight, tableBwWidth = tableBwImage.shape\n",
    "    xAxisResult = np.zeros(tableBwWidth)\n",
    "    for xCoordinate in xrange(tableBwWidth):\n",
    "        xAxisResult[xCoordinate] = np.sum(tableBwImage[:, xCoordinate]) / 255\n",
    "    return xAxisResult"
   ]
  },
  {
   "cell_type": "code",
   "execution_count": 139,
   "metadata": {
    "collapsed": true
   },
   "outputs": [],
   "source": [
    "def show(img, cmap=None):\n",
    "    cmap = cmap or plt.cm.gray\n",
    "    plt.imshow(img, cmap=cmap)\n",
    "    plt.axis('off')\n",
    "    plt.show()"
   ]
  },
  {
   "cell_type": "code",
   "execution_count": 157,
   "metadata": {
    "collapsed": true
   },
   "outputs": [],
   "source": [
    "img = cv2.imread('images/test21.png', 0)"
   ]
  },
  {
   "cell_type": "code",
   "execution_count": null,
   "metadata": {},
   "outputs": [],
   "source": []
  },
  {
   "cell_type": "code",
   "execution_count": 164,
   "metadata": {},
   "outputs": [
    {
     "data": {
      "text/plain": [
       "<matplotlib.image.AxesImage at 0x111d60b10>"
      ]
     },
     "execution_count": 164,
     "metadata": {},
     "output_type": "execute_result"
    },
    {
     "data": {
      "image/png": "[encoded data removed]",
      "text/plain": [
       "<matplotlib.figure.Figure at 0x111b081d0>"
      ]
     },
     "metadata": {},
     "output_type": "display_data"
    }
   ],
   "source": [
    "#ガウシアンフィルタによるぼかしを入れた。文字を太くすることが目的である。\n",
    "#しかしながら、正規分布のパラメータ設定は恣意的なものである。\n",
    "N = 15\n",
    "img_blur = cv2.GaussianBlur(img, (N, N), 0)\n",
    "plt.imshow(img_blur)"
   ]
  },
  {
   "cell_type": "code",
   "execution_count": 165,
   "metadata": {},
   "outputs": [
    {
     "data": {
      "text/plain": [
       "<matplotlib.image.AxesImage at 0x111dfce10>"
      ]
     },
     "execution_count": 165,
     "metadata": {},
     "output_type": "execute_result"
    },
    {
     "data": {
      "image/png": "[encoded data removed]",
      "text/plain": [
       "<matplotlib.figure.Figure at 0x111cdf510>"
      ]
     },
     "metadata": {},
     "output_type": "display_data"
    }
   ],
   "source": [
    "# 画像の２値化に加えて、白黒反転を行っている。\n",
    "# しきい値には、大津の方法を用いている。\n",
    "ret2, img_bin = cv2.threshold(img_blur, 0, 255, cv2.THRESH_BINARY_INV+cv2.THRESH_OTSU)\n",
    "#show(img_bin)\n",
    "plt.imshow(img_bin)"
   ]
  },
  {
   "cell_type": "code",
   "execution_count": 166,
   "metadata": {},
   "outputs": [
    {
     "data": {
      "text/plain": [
       "<matplotlib.image.AxesImage at 0x111816e50>"
      ]
     },
     "execution_count": 166,
     "metadata": {},
     "output_type": "execute_result"
    },
    {
     "data": {
      "image/png": "[encoded data removed]",
      "text/plain": [
       "<matplotlib.figure.Figure at 0x111dbcf50>"
      ]
     },
     "metadata": {},
     "output_type": "display_data"
    }
   ],
   "source": [
    "labels = label(img_bin, connectivity=img_bin.ndim)\n",
    "#show(labels, cmap=plt.cm.rainbow)\n",
    "plt.imshow(labels, cmap=plt.cm.rainbow)\n",
    "#除きたい情報の特徴は、重心が画像の縦中心を通っていないこと。\n",
    "#縦中心: img_bin.shape[0]/2\n",
    "#サイズが小さいことである。\n",
    "#とすれば、regionpropsで量を取ってくる必要がある\n"
   ]
  },
  {
   "cell_type": "code",
   "execution_count": 167,
   "metadata": {},
   "outputs": [],
   "source": [
    "props = regionprops(labels)\n",
    "#boxes = np.array([p['BoundingBox'] for p in props if p['Area'] > 100])\n",
    "#boxes = np.array([p.bbox for p in props if p.area > 100])\n",
    "#[p.coords for p in props][0][:,0]\n",
    "center = img_bin.shape[0] / 2\n",
    "boxes = np.array([p.bbox for p in props if  center in p.coords[:,0]])\n",
    "#boxes = np.array([p.bbox for p in props if () in p.coords])"
   ]
  },
  {
   "cell_type": "code",
   "execution_count": 168,
   "metadata": {},
   "outputs": [
    {
     "name": "stdout",
     "output_type": "stream",
     "text": [
      "There are 13 charactors.\n"
     ]
    }
   ],
   "source": [
    "print(\"There are {0:d} charactors.\" .format(len(boxes)))"
   ]
  },
  {
   "cell_type": "code",
   "execution_count": 169,
   "metadata": {},
   "outputs": [
    {
     "data": {
      "image/png": "[encoded data removed]",
      "text/plain": [
       "<matplotlib.figure.Figure at 0x111e35050>"
      ]
     },
     "metadata": {},
     "output_type": "display_data"
    }
   ],
   "source": [
    "plt.imshow(img, cmap=plt.cm.gray)\n",
    "#plt.axis('off')\n",
    "xs = boxes[:,[1,3]].mean(axis=1)\n",
    "ys = boxes[:,[0,2]].mean(axis=1)\n",
    "for i, box in enumerate(boxes):\n",
    "    rect = frame_border(box)\n",
    "    plt.gca().add_patch(rect)\n",
    "    plt.text(xs[i]-5, ys[i]+5, str(i),color='red')"
   ]
  },
  {
   "cell_type": "code",
   "execution_count": null,
   "metadata": {
    "collapsed": true
   },
   "outputs": [],
   "source": []
  },
  {
   "cell_type": "code",
   "execution_count": null,
   "metadata": {
    "collapsed": true
   },
   "outputs": [],
   "source": []
  }
 ],
 "metadata": {
  "kernelspec": {
   "display_name": "Python 2",
   "language": "python",
   "name": "python2"
  },
  "language_info": {
   "codemirror_mode": {
    "name": "ipython",
    "version": 2
   },
   "file_extension": ".py",
   "mimetype": "text/x-python",
   "name": "python",
   "nbconvert_exporter": "python",
   "pygments_lexer": "ipython2",
   "version": "2.7.13"
  }
 },
 "nbformat": 4,
 "nbformat_minor": 2
}
