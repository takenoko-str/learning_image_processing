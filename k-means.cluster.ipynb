{
 "cells": [
  {
   "cell_type": "code",
   "execution_count": 202,
   "metadata": {
    "collapsed": true
   },
   "outputs": [],
   "source": [
    "import cv2\n",
    "import numpy as np\n",
    "import matplotlib.pyplot as plt\n",
    "import matplotlib.patches as mpatches\n",
    "from skimage.data import coins\n",
    "from skimage.filters import threshold_otsu\n",
    "from skimage.segmentation import clear_border\n",
    "from skimage.morphology import closing, square\n",
    "from skimage.measure import regionprops, label\n",
    "from skimage.color import lab2rgb\n",
    "from sklearn.cluster import KMeans\n",
    "%matplotlib inline"
   ]
  },
  {
   "cell_type": "code",
   "execution_count": 203,
   "metadata": {
    "collapsed": true
   },
   "outputs": [],
   "source": [
    "def frame_border(box):\n",
    "    minr, minc, maxr, maxc = box\n",
    "    return mpatches.Rectangle(xy=(minc, minr), \n",
    "                             width=maxc-minc,\n",
    "                             height=maxr-minr,\n",
    "                             fill=False,\n",
    "                             edgecolor='red',\n",
    "                             linewidth=2)"
   ]
  },
  {
   "cell_type": "code",
   "execution_count": 204,
   "metadata": {},
   "outputs": [],
   "source": [
    "img = cv2.imread('../images/G_2036_129613.png')"
   ]
  },
  {
   "cell_type": "code",
   "execution_count": 205,
   "metadata": {},
   "outputs": [
    {
     "data": {
      "text/plain": [
       "<matplotlib.image.AxesImage at 0x10cde2bd0>"
      ]
     },
     "execution_count": 205,
     "metadata": {},
     "output_type": "execute_result"
    },
    {
     "data": {
      "image/png": "[encoded data removed]",
      "text/plain": [
       "<matplotlib.figure.Figure at 0x11695c610>"
      ]
     },
     "metadata": {},
     "output_type": "display_data"
    }
   ],
   "source": [
    "#ガウシアンフィルタによるぼかしを入れた。文字を太くすることが目的である。\n",
    "#しかしながら、正規分布のパラメータ設定は恣意的なものである。\n",
    "N = 9\n",
    "img_blur = cv2.GaussianBlur(img, (N, N), 0)\n",
    "plt.imshow(img_blur)"
   ]
  },
  {
   "cell_type": "code",
   "execution_count": 206,
   "metadata": {},
   "outputs": [
    {
     "ename": "error",
     "evalue": "/tmp/opencv-20170224-1869-10nlf6f/opencv-2.4.13.2/modules/imgproc/src/thresh.cpp:718: error: (-215) src.type() == CV_8UC1 in function threshold\n",
     "output_type": "error",
     "traceback": [
      "\u001b[0;31m---------------------------------------------------------------------------\u001b[0m",
      "\u001b[0;31merror\u001b[0m                                     Traceback (most recent call last)",
      "\u001b[0;32m<ipython-input-206-fadc8e618e3c>\u001b[0m in \u001b[0;36m<module>\u001b[0;34m()\u001b[0m\n\u001b[1;32m      1\u001b[0m \u001b[0;31m# 画像の２値化に加えて、白黒反転を行っている。\u001b[0m\u001b[0;34m\u001b[0m\u001b[0;34m\u001b[0m\u001b[0m\n\u001b[1;32m      2\u001b[0m \u001b[0;31m# しきい値には、大津の方法を用いている。\u001b[0m\u001b[0;34m\u001b[0m\u001b[0;34m\u001b[0m\u001b[0m\n\u001b[0;32m----> 3\u001b[0;31m \u001b[0mret2\u001b[0m\u001b[0;34m,\u001b[0m \u001b[0mimg_bin\u001b[0m \u001b[0;34m=\u001b[0m \u001b[0mcv2\u001b[0m\u001b[0;34m.\u001b[0m\u001b[0mthreshold\u001b[0m\u001b[0;34m(\u001b[0m\u001b[0mimg_blur\u001b[0m\u001b[0;34m,\u001b[0m \u001b[0;36m0\u001b[0m\u001b[0;34m,\u001b[0m \u001b[0;36m255\u001b[0m\u001b[0;34m,\u001b[0m \u001b[0mcv2\u001b[0m\u001b[0;34m.\u001b[0m\u001b[0mTHRESH_BINARY_INV\u001b[0m\u001b[0;34m+\u001b[0m\u001b[0mcv2\u001b[0m\u001b[0;34m.\u001b[0m\u001b[0mTHRESH_OTSU\u001b[0m\u001b[0;34m)\u001b[0m\u001b[0;34m\u001b[0m\u001b[0m\n\u001b[0m\u001b[1;32m      4\u001b[0m \u001b[0;34m\u001b[0m\u001b[0m\n\u001b[1;32m      5\u001b[0m \u001b[0;31m# test = (img_bin[:,] >= 0).all()\u001b[0m\u001b[0;34m\u001b[0m\u001b[0;34m\u001b[0m\u001b[0m\n",
      "\u001b[0;31merror\u001b[0m: /tmp/opencv-20170224-1869-10nlf6f/opencv-2.4.13.2/modules/imgproc/src/thresh.cpp:718: error: (-215) src.type() == CV_8UC1 in function threshold\n"
     ]
    }
   ],
   "source": [
    "# 画像の２値化に加えて、白黒反転を行っている。\n",
    "# しきい値には、大津の方法を用いている。\n",
    "ret2, img_bin = cv2.threshold(img_blur, 0, 255, cv2.THRESH_BINARY_INV+cv2.THRESH_OTSU)\n",
    "\n",
    "# test = (img_bin[:,] >= 0).all()\n",
    "# print test\n",
    "# for i in range(y_axis_size):\n",
    "#     if (img_bin[:, i] == 0).all():\n",
    "#         img_bin = np.delete(img_bin, i, 1)\n",
    "# plt.imshow(img_bin)\n"
   ]
  },
  {
   "cell_type": "code",
   "execution_count": 207,
   "metadata": {},
   "outputs": [
    {
     "ename": "IndentationError",
     "evalue": "expected an indented block (<ipython-input-207-e6d857187852>, line 12)",
     "output_type": "error",
     "traceback": [
      "\u001b[0;36m  File \u001b[0;32m\"<ipython-input-207-e6d857187852>\"\u001b[0;36m, line \u001b[0;32m12\u001b[0m\n\u001b[0;31m    for i in range(x_axis_size):\u001b[0m\n\u001b[0m                                ^\u001b[0m\n\u001b[0;31mIndentationError\u001b[0m\u001b[0;31m:\u001b[0m expected an indented block\n"
     ]
    }
   ],
   "source": [
    "#これは文字が全部消えてしまい、うまくいかない場合があった。\n",
    "#img_cls = clear_border(closing(img>128, square(5)))\n",
    "#plt.imshow(img_cls)\n",
    "sup = []\n",
    "inf = []\n",
    "y_axis_size = img_bin.shape[0]\n",
    "x_axis_size = img_bin.shape[1]\n",
    "for i in range(x_axis_size):\n",
    "    if img_bin[:, i] == np.zeros(x_axis_size):\n",
    "        \n",
    "\n",
    "for i in range(x_axis_size):\n",
    "    upper_size = 0\n",
    "    lower_size = y_axis_size\n",
    "    for j in img_bin[:, i]:\n",
    "        if j == 0:\n",
    "            upper_size += 1\n",
    "        if j == 255:\n",
    "            break\n",
    "    for j in img_bin[:, i][::-1]:\n",
    "        if j == 0:\n",
    "            lower_size -= 1\n",
    "        if j == 255:\n",
    "            break\n",
    "    inf.append(lower_size)\n",
    "    sup.append(upper_size)\n",
    "\n",
    "sup_hist = np.array(sup)\n",
    "inf_hist = np.array(inf)\n",
    "fsup = np.array(sup, dtype=np.float)\n",
    "finf = np.array(inf, dtype=np.float)\n",
    "norm = finf - fsup\n",
    "ndiff = np.gradient(norm, 2)\n",
    "\n",
    "sgn = []\n",
    "c = 10\n",
    "for i in range(x_axis_size):\n",
    "    # word exists!\n",
    "    if finf[i] - fsup[i] <= c:\n",
    "        sgn.append(0)\n",
    "    # blank part exists!\n",
    "    else:\n",
    "        sgn.append(1)\n",
    "sgn_hist = np.array(sgn)\n",
    "\n",
    "plt.subplot(5, 1, 1)\n",
    "plt.xlim(0, x_axis_size)\n",
    "#plt.xlim(700, 1000)\n",
    "plt.plot(sup_hist, label='sup')\n",
    "plt.plot(inf_hist, label='inf')\n",
    "plt.legend(loc=\"upper right\")\n",
    "\n",
    "plt.subplot(5, 1, 2)\n",
    "plt.xlim(0, x_axis_size)\n",
    "# plt.ylim(0, y_axis_size)\n",
    "axis = [c for i in range(x_axis_size)]\n",
    "plt.plot(axis)\n",
    "plt.plot(norm, label='norm')\n",
    "plt.legend(loc=\"upper right\")\n",
    "\n",
    "plt.subplot(5, 1, 3)\n",
    "# finf = np.array(sup, dtype=np.float)\n",
    "# diff2= np.gradient(finf)\n",
    "plt.xlim(0, x_axis_size)\n",
    "# plt.plot(diff2, label='inf')\n",
    "plt.plot(sgn_hist)\n",
    "plt.legend(loc=\"upper right\")\n",
    "\n",
    "plt.subplot(5, 1, 4)\n",
    "plt.xlim(0, x_axis_size)\n",
    "plt.plot(ndiff, label='norm diff')\n",
    "plt.legend(loc=\"upper right\")\n",
    "\n",
    "plt.subplot(5, 1, 5)\n",
    "plt.xlim(0, x_axis_size)\n",
    "plt.imshow(img_bin, aspect='auto')"
   ]
  },
  {
   "cell_type": "code",
   "execution_count": 196,
   "metadata": {},
   "outputs": [
    {
     "data": {
      "text/plain": [
       "(97, 1152, 3)"
      ]
     },
     "execution_count": 196,
     "metadata": {},
     "output_type": "execute_result"
    }
   ],
   "source": [
    "img.shape"
   ]
  },
  {
   "cell_type": "code",
   "execution_count": 208,
   "metadata": {},
   "outputs": [],
   "source": [
    "features = np.array([[sup[i], inf[i]] for i in range(x_axis_size)])\n",
    "kmeans_model = KMeans(n_clusters=4, random_state=10).fit(features)\n",
    "labels = kmeans_model.labels_"
   ]
  },
  {
   "cell_type": "code",
   "execution_count": null,
   "metadata": {},
   "outputs": [],
   "source": []
  },
  {
   "cell_type": "code",
   "execution_count": 198,
   "metadata": {},
   "outputs": [
    {
     "data": {
      "image/png": "[encoded data removed]",
      "text/plain": [
       "<matplotlib.figure.Figure at 0x11fade150>"
      ]
     },
     "metadata": {},
     "output_type": "display_data"
    }
   ],
   "source": [
    "colors = [\"r\", \"g\", \"b\", \"c\"]\n",
    "fig = plt.figure()\n",
    "ax = fig.add_subplot(1,1,1)\n",
    "\n",
    "for label, feature in zip(labels, features):\n",
    "    #print label, feature[0]\n",
    "    ax.set_xlabel('sup')\n",
    "    ax.set_ylabel('inf')\n",
    "    plt.scatter(feature[0], feature[1], s=40, marker='o', c=colors[label])\n",
    "plt.show()"
   ]
  },
  {
   "cell_type": "code",
   "execution_count": 199,
   "metadata": {},
   "outputs": [
    {
     "name": "stdout",
     "output_type": "stream",
     "text": [
      "Help on function scatter in module matplotlib.pyplot:\n",
      "\n",
      "scatter(x, y, s=None, c=None, marker=None, cmap=None, norm=None, vmin=None, vmax=None, alpha=None, linewidths=None, verts=None, edgecolors=None, hold=None, data=None, **kwargs)\n",
      "    Make a scatter plot of `x` vs `y`\n",
      "    \n",
      "    Marker size is scaled by `s` and marker color is mapped to `c`\n",
      "    \n",
      "    Parameters\n",
      "    ----------\n",
      "    x, y : array_like, shape (n, )\n",
      "        Input data\n",
      "    \n",
      "    s : scalar or array_like, shape (n, ), optional\n",
      "        size in points^2.  Default is `rcParams['lines.markersize'] ** 2`.\n",
      "    \n",
      "    c : color, sequence, or sequence of color, optional, default: 'b'\n",
      "        `c` can be a single color format string, or a sequence of color\n",
      "        specifications of length `N`, or a sequence of `N` numbers to be\n",
      "        mapped to colors using the `cmap` and `norm` specified via kwargs\n",
      "        (see below). Note that `c` should not be a single numeric RGB or\n",
      "        RGBA sequence because that is indistinguishable from an array of\n",
      "        values to be colormapped.  `c` can be a 2-D array in which the\n",
      "        rows are RGB or RGBA, however, including the case of a single\n",
      "        row to specify the same color for all points.\n",
      "    \n",
      "    marker : `~matplotlib.markers.MarkerStyle`, optional, default: 'o'\n",
      "        See `~matplotlib.markers` for more information on the different\n",
      "        styles of markers scatter supports. `marker` can be either\n",
      "        an instance of the class or the text shorthand for a particular\n",
      "        marker.\n",
      "    \n",
      "    cmap : `~matplotlib.colors.Colormap`, optional, default: None\n",
      "        A `~matplotlib.colors.Colormap` instance or registered name.\n",
      "        `cmap` is only used if `c` is an array of floats. If None,\n",
      "        defaults to rc `image.cmap`.\n",
      "    \n",
      "    norm : `~matplotlib.colors.Normalize`, optional, default: None\n",
      "        A `~matplotlib.colors.Normalize` instance is used to scale\n",
      "        luminance data to 0, 1. `norm` is only used if `c` is an array of\n",
      "        floats. If `None`, use the default :func:`normalize`.\n",
      "    \n",
      "    vmin, vmax : scalar, optional, default: None\n",
      "        `vmin` and `vmax` are used in conjunction with `norm` to normalize\n",
      "        luminance data.  If either are `None`, the min and max of the\n",
      "        color array is used.  Note if you pass a `norm` instance, your\n",
      "        settings for `vmin` and `vmax` will be ignored.\n",
      "    \n",
      "    alpha : scalar, optional, default: None\n",
      "        The alpha blending value, between 0 (transparent) and 1 (opaque)\n",
      "    \n",
      "    linewidths : scalar or array_like, optional, default: None\n",
      "        If None, defaults to (lines.linewidth,).\n",
      "    \n",
      "    verts : sequence of (x, y), optional\n",
      "        If `marker` is None, these vertices will be used to\n",
      "        construct the marker.  The center of the marker is located\n",
      "        at (0,0) in normalized units.  The overall marker is rescaled\n",
      "        by ``s``.\n",
      "    \n",
      "    edgecolors : color or sequence of color, optional, default: None\n",
      "        If None, defaults to 'face'\n",
      "    \n",
      "        If 'face', the edge color will always be the same as\n",
      "        the face color.\n",
      "    \n",
      "        If it is 'none', the patch boundary will not\n",
      "        be drawn.\n",
      "    \n",
      "        For non-filled markers, the `edgecolors` kwarg\n",
      "        is ignored and forced to 'face' internally.\n",
      "    \n",
      "    Returns\n",
      "    -------\n",
      "    paths : `~matplotlib.collections.PathCollection`\n",
      "    \n",
      "    Other parameters\n",
      "    ----------------\n",
      "    kwargs : `~matplotlib.collections.Collection` properties\n",
      "    \n",
      "    See Also\n",
      "    --------\n",
      "    plot : to plot scatter plots when markers are identical in size and\n",
      "        color\n",
      "    \n",
      "    Notes\n",
      "    -----\n",
      "    \n",
      "    * The `plot` function will be faster for scatterplots where markers\n",
      "      don't vary in size or color.\n",
      "    \n",
      "    * Any or all of `x`, `y`, `s`, and `c` may be masked arrays, in which\n",
      "      case all masks will be combined and only unmasked points will be\n",
      "      plotted.\n",
      "    \n",
      "      Fundamentally, scatter works with 1-D arrays; `x`, `y`, `s`, and `c`\n",
      "      may be input as 2-D arrays, but within scatter they will be\n",
      "      flattened. The exception is `c`, which will be flattened only if its\n",
      "      size matches the size of `x` and `y`.\n",
      "    \n",
      "    Examples\n",
      "    --------\n",
      "    .. plot:: mpl_examples/shapes_and_collections/scatter_demo.py\n",
      "    \n",
      "    .. note::\n",
      "        In addition to the above described arguments, this function can take a\n",
      "        **data** keyword argument. If such a **data** argument is given, the\n",
      "        following arguments are replaced by **data[<arg>]**:\n",
      "    \n",
      "        * All arguments with the following names: 'c', 'color', 'edgecolors', 'facecolor', 'facecolors', 'linewidths', 's', 'x', 'y'.\n",
      "\n"
     ]
    }
   ],
   "source": [
    "help(plt.scatter)"
   ]
  },
  {
   "cell_type": "code",
   "execution_count": null,
   "metadata": {
    "collapsed": true
   },
   "outputs": [],
   "source": []
  },
  {
   "cell_type": "code",
   "execution_count": null,
   "metadata": {
    "collapsed": true
   },
   "outputs": [],
   "source": []
  }
 ],
 "metadata": {
  "kernelspec": {
   "display_name": "Python 2",
   "language": "python",
   "name": "python2"
  },
  "language_info": {
   "codemirror_mode": {
    "name": "ipython",
    "version": 2
   },
   "file_extension": ".py",
   "mimetype": "text/x-python",
   "name": "python",
   "nbconvert_exporter": "python",
   "pygments_lexer": "ipython2",
   "version": "2.7.13"
  }
 },
 "nbformat": 4,
 "nbformat_minor": 2
}
