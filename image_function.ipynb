{
 "cells": [
  {
   "cell_type": "code",
   "execution_count": 20,
   "metadata": {
    "collapsed": true
   },
   "outputs": [],
   "source": [
    "import cv2\n",
    "\n",
    "\n",
    "def image_preset(img, sd=9):\n",
    "    img_blur = cv2.GaussianBlur(img, (sd, sd), 0)\n",
    "    _, img_bin = cv2.threshold(img_blur, 0, 255, cv2.THRESH_BINARY_INV+cv2.THRESH_OTSU)\n",
    "    return img_bin\n",
    "\n",
    "\n",
    "# def word_separate(cv2, img, thresh=10):\n",
    "#     \"\"\"notice\n",
    "#     In image processing, the axis-y limit is reversed  from top to bottom.\n",
    "#     sd: standard deviation\n",
    "#     cv2: import cv2, opencv library\n",
    "#     thresh: threshold uses for the discernment of words\n",
    "#     \"\"\"\n",
    "    \n",
    "    \n",
    "#     def word_sgn(sup, inf, width, thresh, sgn=[]):\n",
    "#         fsup = np.array(sup, dtype=np.float)\n",
    "#         finf = np.array(inf, dtype=np.float)\n",
    "#         norm = (finf - fsup)\n",
    "#         for i in range(width):\n",
    "#             if finf[i] - fsup[i] <= thresh: # word exists!\n",
    "#                 sgn.append(0)\n",
    "#             else: # blank part exists!\n",
    "#                 sgn.append(1)\n",
    "#         return sgn\n",
    "\n",
    "\n",
    "#     def inf_bound(img_bin, width, inf=[]):\n",
    "#         for i in range(width):\n",
    "#             lower_size = height\n",
    "#             vertical_coords = img_bin[:, i]\n",
    "#             for j in vertical_coords[::-1]:\n",
    "#                 if j == 0:\n",
    "#                     lower_size -= 1\n",
    "#                 if j == 255:\n",
    "#                     break\n",
    "#             inf.append(lower_size)\n",
    "#         return inf\n",
    "    \n",
    "    \n",
    "#     def sup_bound(img_bin, width, sup=[]):\n",
    "#         for i in range(width):\n",
    "#             upper_size = 0\n",
    "#             vertical_coords = img_bin[:, i]\n",
    "#             for j in vertical_coords:\n",
    "#                 if j == 0:\n",
    "#                     upper_size += 1\n",
    "#                 if j == 255:\n",
    "#                     break\n",
    "#             sup.append(upper_size)\n",
    "#         return sup\n",
    "\n",
    "#     img_height = img_bin.shape[0]\n",
    "#     img_width = img_bin.shape[1]\n",
    "#     sup = sup_bound(img_bin, img_width, [])\n",
    "#     inf = inf_bound(img_bin, img_width, [])\n",
    "#     sgn = word_sgn(sup, inf, width, thresh, [])\n",
    "#     return sgn"
   ]
  },
  {
   "cell_type": "code",
   "execution_count": 21,
   "metadata": {},
   "outputs": [],
   "source": [
    "img = cv2.imread('../images/G_2036_129613.png')"
   ]
  },
  {
   "cell_type": "code",
   "execution_count": 22,
   "metadata": {},
   "outputs": [
    {
     "ename": "error",
     "evalue": "/tmp/opencv-20170224-1869-10nlf6f/opencv-2.4.13.2/modules/imgproc/src/smooth.cpp:816: error: (-215) ksize.width > 0 && ksize.width % 2 == 1 && ksize.height > 0 && ksize.height % 2 == 1 in function createGaussianFilter\n",
     "output_type": "error",
     "traceback": [
      "\u001b[0;31m---------------------------------------------------------------------------\u001b[0m",
      "\u001b[0;31merror\u001b[0m                                     Traceback (most recent call last)",
      "\u001b[0;32m<ipython-input-22-d0ed35645f15>\u001b[0m in \u001b[0;36m<module>\u001b[0;34m()\u001b[0m\n\u001b[0;32m----> 1\u001b[0;31m \u001b[0mimage_preset\u001b[0m\u001b[0;34m(\u001b[0m\u001b[0mimg\u001b[0m\u001b[0;34m)\u001b[0m\u001b[0;34m\u001b[0m\u001b[0m\n\u001b[0m",
      "\u001b[0;32m<ipython-input-20-67fc1e1fe310>\u001b[0m in \u001b[0;36mimage_preset\u001b[0;34m(img, sd)\u001b[0m\n\u001b[1;32m      3\u001b[0m \u001b[0;34m\u001b[0m\u001b[0m\n\u001b[1;32m      4\u001b[0m \u001b[0;32mdef\u001b[0m \u001b[0mimage_preset\u001b[0m\u001b[0;34m(\u001b[0m\u001b[0mimg\u001b[0m\u001b[0;34m,\u001b[0m \u001b[0msd\u001b[0m\u001b[0;34m=\u001b[0m\u001b[0;36m10\u001b[0m\u001b[0;34m)\u001b[0m\u001b[0;34m:\u001b[0m\u001b[0;34m\u001b[0m\u001b[0m\n\u001b[0;32m----> 5\u001b[0;31m     \u001b[0mimg_blur\u001b[0m \u001b[0;34m=\u001b[0m \u001b[0mcv2\u001b[0m\u001b[0;34m.\u001b[0m\u001b[0mGaussianBlur\u001b[0m\u001b[0;34m(\u001b[0m\u001b[0mimg\u001b[0m\u001b[0;34m,\u001b[0m \u001b[0;34m(\u001b[0m\u001b[0msd\u001b[0m\u001b[0;34m,\u001b[0m \u001b[0msd\u001b[0m\u001b[0;34m)\u001b[0m\u001b[0;34m,\u001b[0m \u001b[0;36m0\u001b[0m\u001b[0;34m)\u001b[0m\u001b[0;34m\u001b[0m\u001b[0m\n\u001b[0m\u001b[1;32m      6\u001b[0m     \u001b[0mx\u001b[0m\u001b[0;34m,\u001b[0m \u001b[0mimg_bin\u001b[0m \u001b[0;34m=\u001b[0m \u001b[0mcv2\u001b[0m\u001b[0;34m.\u001b[0m\u001b[0mthreshold\u001b[0m\u001b[0;34m(\u001b[0m\u001b[0mimg_blur\u001b[0m\u001b[0;34m,\u001b[0m \u001b[0;36m0\u001b[0m\u001b[0;34m,\u001b[0m \u001b[0;36m255\u001b[0m\u001b[0;34m,\u001b[0m \u001b[0mcv2\u001b[0m\u001b[0;34m.\u001b[0m\u001b[0mTHRESH_BINARY_INV\u001b[0m\u001b[0;34m+\u001b[0m\u001b[0mcv2\u001b[0m\u001b[0;34m.\u001b[0m\u001b[0mTHRESH_OTSU\u001b[0m\u001b[0;34m)\u001b[0m\u001b[0;34m\u001b[0m\u001b[0m\n\u001b[1;32m      7\u001b[0m     \u001b[0;32mreturn\u001b[0m \u001b[0mimg_bin\u001b[0m\u001b[0;34m\u001b[0m\u001b[0m\n",
      "\u001b[0;31merror\u001b[0m: /tmp/opencv-20170224-1869-10nlf6f/opencv-2.4.13.2/modules/imgproc/src/smooth.cpp:816: error: (-215) ksize.width > 0 && ksize.width % 2 == 1 && ksize.height > 0 && ksize.height % 2 == 1 in function createGaussianFilter\n"
     ]
    }
   ],
   "source": [
    "image_preset(img)"
   ]
  },
  {
   "cell_type": "code",
   "execution_count": null,
   "metadata": {
    "collapsed": true
   },
   "outputs": [],
   "source": []
  },
  {
   "cell_type": "code",
   "execution_count": null,
   "metadata": {
    "collapsed": true
   },
   "outputs": [],
   "source": []
  }
 ],
 "metadata": {
  "kernelspec": {
   "display_name": "Python 2",
   "language": "python",
   "name": "python2"
  },
  "language_info": {
   "codemirror_mode": {
    "name": "ipython",
    "version": 2
   },
   "file_extension": ".py",
   "mimetype": "text/x-python",
   "name": "python",
   "nbconvert_exporter": "python",
   "pygments_lexer": "ipython2",
   "version": "2.7.13"
  }
 },
 "nbformat": 4,
 "nbformat_minor": 2
}
